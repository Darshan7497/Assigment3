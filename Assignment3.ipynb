{
 "cells": [
  {
   "cell_type": "markdown",
   "id": "dc0b19e4-9ecb-46ce-8eb8-92b99f684042",
   "metadata": {},
   "source": [
    "Q1. Explain with an example each when to use a for loop and a while loop."
   ]
  },
  {
   "cell_type": "code",
   "execution_count": 4,
   "id": "f5f870a8-4b58-4aed-991a-98f93fadd70b",
   "metadata": {},
   "outputs": [
    {
     "name": "stdout",
     "output_type": "stream",
     "text": [
      "D, a, r, s, h, a, n, "
     ]
    }
   ],
   "source": [
    "# A for loop is a control flow statement that executes code repeatedly for a particular number of iterations.\n",
    "#for loop is used when the number of iterations is already known\n",
    "name = 'Darshan'\n",
    "for i in name:\n",
    "    print(i, end=\", \")"
   ]
  },
  {
   "cell_type": "code",
   "execution_count": 5,
   "id": "2408a37e-13fd-4715-8b62-082ec43c93c4",
   "metadata": {},
   "outputs": [
    {
     "name": "stdout",
     "output_type": "stream",
     "text": [
      "5\n",
      "4\n",
      "3\n",
      "2\n",
      "1\n"
     ]
    }
   ],
   "source": [
    "#A loop that executes a single statement or a group of statements for the given true condition\n",
    "# While loop is used when the number of iterations is unknown.\n",
    "count = 5\n",
    "while (count > 0):\n",
    "    print(count)\n",
    "    count = count - 1"
   ]
  },
  {
   "cell_type": "markdown",
   "id": "bc0fffe4-b44e-4bbd-bee1-430f60b3f9c8",
   "metadata": {},
   "source": [
    "Q2. Write a python program to print the sum and product of the first 10 natural numbers using for\n",
    "and while loop."
   ]
  },
  {
   "cell_type": "code",
   "execution_count": 12,
   "id": "59bf924a-0892-4eb4-a9fb-b4321c957183",
   "metadata": {},
   "outputs": [
    {
     "name": "stdout",
     "output_type": "stream",
     "text": [
      "45\n"
     ]
    }
   ],
   "source": [
    "l=0\n",
    "for i in range(10):\n",
    "    l= l+i\n",
    "print (l)"
   ]
  },
  {
   "cell_type": "code",
   "execution_count": 11,
   "id": "39f982d4-efbf-407c-ac05-a2e96df4ac2e",
   "metadata": {},
   "outputs": [],
   "source": [
    "q = [1,2,3,4,5,6,7,8,9,10]"
   ]
  },
  {
   "cell_type": "code",
   "execution_count": 13,
   "id": "2db73455-6b46-4689-a9d4-8c9f978b39e9",
   "metadata": {},
   "outputs": [
    {
     "data": {
      "text/plain": [
       "3628800"
      ]
     },
     "execution_count": 13,
     "metadata": {},
     "output_type": "execute_result"
    }
   ],
   "source": [
    "product = 1                               \n",
    "for i in q:\n",
    "    product = product * i\n",
    "\n",
    "product"
   ]
  },
  {
   "cell_type": "code",
   "execution_count": 16,
   "id": "3ce69b89-1061-4af7-8f59-89bba4bf61d7",
   "metadata": {},
   "outputs": [
    {
     "data": {
      "text/plain": [
       "55"
      ]
     },
     "execution_count": 16,
     "metadata": {},
     "output_type": "execute_result"
    }
   ],
   "source": [
    "n = 10                \n",
    "number1 = 0\n",
    "number2 = 1\n",
    "\n",
    "while number2 <= n:\n",
    "    number1 = number1 + number2\n",
    "    number2 = number2 + 1\n",
    "    \n",
    "number1\n",
    "    "
   ]
  },
  {
   "cell_type": "code",
   "execution_count": 17,
   "id": "a0b261e5-690e-4327-afc6-574516ee8c16",
   "metadata": {},
   "outputs": [
    {
     "data": {
      "text/plain": [
       "3628800"
      ]
     },
     "execution_count": 17,
     "metadata": {},
     "output_type": "execute_result"
    }
   ],
   "source": [
    "n = 10\n",
    "number1 = 1\n",
    "number2 = 1\n",
    "\n",
    "while number2 <= n:\n",
    "    number1 = number1 * number2\n",
    "    number2 = number2 + 1\n",
    "    \n",
    "number1"
   ]
  },
  {
   "cell_type": "markdown",
   "id": "91b598ed-f15e-4f84-b01d-85cd355b3f8b",
   "metadata": {},
   "source": [
    "Q3. Create a python program to compute the electricity bill for a household.\n",
    "\n",
    "The per-unit charges in rupees are as follows: For the first 100 units, the user will be charged Rs. 4.5 per\n",
    "unit, for the next 100 units, the user will be charged Rs. 6 per unit, and for the next 100 units, the user will\n",
    "be charged Rs. 10 per unit, After 300 units and above the user will be charged Rs. 20 per unit.\n",
    "You are required to take the units of electricity consumed in a month from the user as input.\n",
    "Your program must pass this test case: when the unit of electricity consumed by the user in a month is\n",
    "310, the total electricity bill should be 2250."
   ]
  },
  {
   "cell_type": "code",
   "execution_count": 2,
   "id": "ee5820b4-cbd7-45d1-9afb-6439d6cdcc38",
   "metadata": {},
   "outputs": [
    {
     "name": "stdin",
     "output_type": "stream",
     "text": [
      "enter your electricity unit cunsumed in a month:  310\n"
     ]
    },
    {
     "name": "stdout",
     "output_type": "stream",
     "text": [
      "elctricity bill in rupees:  2250.0\n"
     ]
    }
   ],
   "source": [
    "unit = int(input(\"enter your electricity unit cunsumed in a month: \"))\n",
    "\n",
    "if unit <= 100:\n",
    "    electricity_bill = unit*4.5\n",
    "    \n",
    "elif unit <= 200:\n",
    "     electricity_bill = 100*4.5 + (unit-100)*6\n",
    "        \n",
    "elif unit <= 300:\n",
    "    electricity_bill = 100*4.5 + 100*6 + (unit-200)*10\n",
    "    \n",
    "else:\n",
    "    electricity_bill = 100*4.5 + 100*6 + 100*10 + (unit-300)*20\n",
    "    \n",
    "print(\"elctricity bill in rupees: \", electricity_bill)"
   ]
  },
  {
   "cell_type": "markdown",
   "id": "8ea2cf93-914c-4edd-9727-f6ef17dd27cd",
   "metadata": {},
   "source": [
    "Q4. Create a list of numbers from 1 to 100. Use for loop and while loop to calculate the cube of each\n",
    "number and if the cube of that number is divisible by 4 or 5 then append that number in a list and print\n",
    "that list."
   ]
  },
  {
   "cell_type": "code",
   "execution_count": 21,
   "id": "0c42d864-76db-434a-9e8b-abcb9fd15170",
   "metadata": {},
   "outputs": [
    {
     "name": "stdout",
     "output_type": "stream",
     "text": [
      "number is divisible by 4 or 5:  [8, 64, 125, 216, 512, 1000, 1728, 2744, 3375, 4096, 5832, 8000, 10648, 13824, 15625, 17576, 21952, 27000, 32768, 39304, 42875, 46656, 54872, 64000, 74088, 85184, 91125, 97336, 110592, 125000, 140608, 157464, 166375, 175616, 195112, 216000, 238328, 262144, 274625, 287496, 314432, 343000, 373248, 405224, 421875, 438976, 474552, 512000, 551368, 592704, 614125, 636056, 681472, 729000, 778688, 830584, 857375, 884736, 941192, 1000000]\n"
     ]
    }
   ],
   "source": [
    "a = []\n",
    "power_3 = []\n",
    "\n",
    "for i in range(1,101):\n",
    "    a.append(i)\n",
    "    cube = i**3\n",
    "    if cube % 4 == 0 or cube % 5 == 0:\n",
    "        power_3.append(cube)\n",
    "        \n",
    "print(\"number is divisible by 4 or 5: \", power_3)\n",
    "    \n",
    "    "
   ]
  },
  {
   "cell_type": "markdown",
   "id": "0af5e4f4-fabe-4498-b055-3a8d0833a747",
   "metadata": {},
   "source": [
    "Q5. Write a program to filter count vowels in the below-given string.\n",
    "string = \"I want to become a data scientist\""
   ]
  },
  {
   "cell_type": "code",
   "execution_count": 24,
   "id": "ee55e27c-dcc5-4913-b97b-3a3cb89d330b",
   "metadata": {},
   "outputs": [
    {
     "name": "stdout",
     "output_type": "stream",
     "text": [
      "vowels in string:  12\n"
     ]
    }
   ],
   "source": [
    "string = \"I want to became a data scientist\"\n",
    "\n",
    "vowel = \"a,e,i,o,u,A,E,I,O,U\"\n",
    "\n",
    "counter = 0\n",
    "\n",
    "for char in string:\n",
    "    if char in vowel:\n",
    "        counter = counter + 1\n",
    "        \n",
    "print(\"vowels in string: \", counter)"
   ]
  },
  {
   "cell_type": "code",
   "execution_count": null,
   "id": "4c7c5ff9-c1c9-4a72-88c3-2dd60cc6eb46",
   "metadata": {},
   "outputs": [],
   "source": []
  }
 ],
 "metadata": {
  "kernelspec": {
   "display_name": "Python 3 (ipykernel)",
   "language": "python",
   "name": "python3"
  },
  "language_info": {
   "codemirror_mode": {
    "name": "ipython",
    "version": 3
   },
   "file_extension": ".py",
   "mimetype": "text/x-python",
   "name": "python",
   "nbconvert_exporter": "python",
   "pygments_lexer": "ipython3",
   "version": "3.10.8"
  }
 },
 "nbformat": 4,
 "nbformat_minor": 5
}
